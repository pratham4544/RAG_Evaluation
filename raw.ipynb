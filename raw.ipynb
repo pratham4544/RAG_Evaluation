{
 "cells": [
  {
   "cell_type": "code",
   "execution_count": 1,
   "metadata": {},
   "outputs": [],
   "source": [
    "questions = [\n",
    "    \"Who is Mr. Dursley and what is his job?\",\n",
    "    \"Why were the Dursleys afraid of people discovering their secret?\",\n",
    "    \"What unusual thing happened to Harry when he went out shopping with Aunt Petunia and Dudley?\",\n",
    "    \"How many staircases are there at Hogwarts and what is unique about them?\",\n",
    "    \"Who is the Potions Master at Hogwarts?\",\n",
    "    \"What does Harry see when he looks into the Mirror of Erised?\",\n",
    "    \"How does Harry end up with an invisibility cloak?\",\n",
    "    \"Who saves Harry in the Forbidden Forest?\",\n",
    "    \"What is the significance of the scar on Harry's forehead?\",\n",
    "    \"How does Harry feel when people stare at him at Hogwarts?\"\n",
    "]"
   ]
  },
  {
   "cell_type": "code",
   "execution_count": 3,
   "metadata": {},
   "outputs": [],
   "source": [
    "import pandas as pd\n",
    "\n",
    "df = pd.DataFrame(questions, columns=['question'])\n",
    "df.to_csv('questions')"
   ]
  },
  {
   "cell_type": "code",
   "execution_count": null,
   "metadata": {},
   "outputs": [],
   "source": []
  }
 ],
 "metadata": {
  "kernelspec": {
   "display_name": "base",
   "language": "python",
   "name": "python3"
  },
  "language_info": {
   "codemirror_mode": {
    "name": "ipython",
    "version": 3
   },
   "file_extension": ".py",
   "mimetype": "text/x-python",
   "name": "python",
   "nbconvert_exporter": "python",
   "pygments_lexer": "ipython3",
   "version": "3.11.7"
  }
 },
 "nbformat": 4,
 "nbformat_minor": 2
}
